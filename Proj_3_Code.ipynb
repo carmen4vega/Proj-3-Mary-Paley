{
 "cells": [
  {
   "cell_type": "markdown",
   "id": "d4b56a25-5d68-40ba-85bb-dc3e7603e5b4",
   "metadata": {},
   "source": [
    "# **`Project 3: Team Mary Paley`**"
   ]
  },
  {
   "cell_type": "markdown",
   "id": "c2e32e57-836e-44aa-9085-95a43459db01",
   "metadata": {},
   "source": [
    "### **Objective**: ..."
   ]
  },
  {
   "cell_type": "markdown",
   "id": "fe9627d8-b050-4770-9e48-e859aa62c817",
   "metadata": {},
   "source": [
    "#### Group Members:\n",
    "> Emily Wu: wuemily@berkeley.edu <br>\n",
    "> Rania Nasser: ...@berkeley.edu <br>\n",
    "> Jing Huang: ...@berkeley.edu <br>\n",
    "> Carmen Vega: carmenvega@berkeley.edu <br>\n",
    "> Mario Zhao: mario.zhao@berkeley.edu <br>"
   ]
  },
  {
   "cell_type": "markdown",
   "id": "eec28688-2524-4e53-8637-7d2cd5a0e321",
   "metadata": {},
   "source": [
    "### **[A]: Choice of a population, with supporting expenditure data**"
   ]
  },
  {
   "cell_type": "code",
   "execution_count": null,
   "id": "5532da39-599d-446c-af46-9b89d467f3eb",
   "metadata": {},
   "outputs": [],
   "source": []
  },
  {
   "cell_type": "code",
   "execution_count": null,
   "id": "95dd867a-ddba-4606-b160-77703fec5797",
   "metadata": {},
   "outputs": [],
   "source": []
  },
  {
   "cell_type": "markdown",
   "id": "48aa1a3b-af2a-4316-a5cf-72ffcbe9a89c",
   "metadata": {},
   "source": [
    "### **[B]: Nutritional content of different foods**"
   ]
  },
  {
   "cell_type": "code",
   "execution_count": null,
   "id": "2e6fac32-14ac-4ffd-bf70-e81dbf9a8f66",
   "metadata": {},
   "outputs": [],
   "source": []
  },
  {
   "cell_type": "code",
   "execution_count": null,
   "id": "c2e17b8f-103f-4a16-8017-da63d61ba885",
   "metadata": {},
   "outputs": [],
   "source": []
  },
  {
   "cell_type": "markdown",
   "id": "a1e62745-1669-4119-8fbe-5413356c629b",
   "metadata": {},
   "source": [
    "### **[B]: Nutritional adequacy of diet**"
   ]
  },
  {
   "cell_type": "code",
   "execution_count": null,
   "id": "324d71eb-c404-461c-b932-3f6c779f6912",
   "metadata": {},
   "outputs": [],
   "source": []
  },
  {
   "cell_type": "code",
   "execution_count": null,
   "id": "b4d77623-12f1-4b6b-a5f3-950366abcf3f",
   "metadata": {},
   "outputs": [],
   "source": []
  },
  {
   "cell_type": "markdown",
   "id": "d077112f-6f7d-40e1-82e6-9634f56dd600",
   "metadata": {},
   "source": [
    "### **[A]: Estimate demand system**"
   ]
  },
  {
   "cell_type": "code",
   "execution_count": null,
   "id": "ae0ec5e9-47a3-4828-9ec3-18a65657316e",
   "metadata": {},
   "outputs": [],
   "source": []
  },
  {
   "cell_type": "code",
   "execution_count": null,
   "id": "19d8282a-81c1-45d1-b1c8-0acb06f861e8",
   "metadata": {},
   "outputs": [],
   "source": []
  },
  {
   "cell_type": "markdown",
   "id": "cfe02de0-2777-46ff-a6cd-99757f7c92fc",
   "metadata": {},
   "source": [
    "### **[C]: Counterfactual experiments**"
   ]
  },
  {
   "cell_type": "code",
   "execution_count": null,
   "id": "1fdce74b-15b6-4def-a5d1-03c0b3270d78",
   "metadata": {},
   "outputs": [],
   "source": []
  },
  {
   "cell_type": "code",
   "execution_count": null,
   "id": "99cefd07-d1bc-431a-a241-fe23155b1c9d",
   "metadata": {},
   "outputs": [],
   "source": []
  }
 ],
 "metadata": {
  "kernelspec": {
   "display_name": "Python 3 (ipykernel)",
   "language": "python",
   "name": "python3"
  },
  "language_info": {
   "codemirror_mode": {
    "name": "ipython",
    "version": 3
   },
   "file_extension": ".py",
   "mimetype": "text/x-python",
   "name": "python",
   "nbconvert_exporter": "python",
   "pygments_lexer": "ipython3",
   "version": "3.11.11"
  }
 },
 "nbformat": 4,
 "nbformat_minor": 5
}
